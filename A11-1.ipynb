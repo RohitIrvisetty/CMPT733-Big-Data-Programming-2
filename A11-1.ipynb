{
 "cells": [
  {
   "cell_type": "markdown",
   "metadata": {},
   "source": [
    "# Assignment 11-1: Fairness in Machine Learning\n",
    "\n",
    "## Objectives\n",
    "\n",
    "In this assignment, you will learn how to use [AI Fairness 360](http://aif360.mybluemix.net/) to detect and repair bias in machine learning. \n",
    "\n",
    "Task 1 is a reading task. It is a tutorial helping you understand the basics of AI Fairness 360. Task 2 is the one that requires you to complete.\n",
    "\n",
    "\n",
    "## Task 1. AI Fairness 360 Tutorial"
   ]
  },
  {
   "cell_type": "markdown",
   "metadata": {},
   "source": [
    "### Biases and Machine Learning\n",
    "A machine learning model makes predictions of an outcome for a particular instance. (Given an instance of a loan application, predict if the applicant will repay the loan.) The model makes these predictions based on a training dataset, where many other instances (other loan applications) and actual outcomes (whether they repaid) are provided. Thus, a machine learning algorithm will attempt to find patterns, or generalizations, in the training dataset to use when a prediction for a new instance is needed. (For example, one pattern it might discover is \"if a person has salary > USD 40K and has outstanding debt < USD 5, they will repay the loan\".) In many domains this technique, called supervised machine learning, has worked very well.\n",
    "\n",
    "However, sometimes the patterns that are found may not be desirable or may even be illegal. For example, a loan repay model may determine that age plays a significant role in the prediction of repayment because the training dataset happened to have better repayment for one age group than for another. This raises two problems: 1) the training dataset may not be representative of the true population of people of all age groups, and 2) even if it is representative, it is illegal to base any decision on a applicant's age, regardless of whether this is a good prediction based on historical data.\n",
    "\n",
    "AI Fairness 360 is designed to help address this problem with *fairness metrics* and *bias mitigators*.  Fairness metrics can be used to check for bias in machine learning workflows.  Bias mitigators can be used to overcome bias in the workflow to produce a more fair outcome. \n",
    "\n",
    "The loan scenario describes an intuitive example of illegal bias. However, not all undesirable bias in machine learning is illegal it may also exist in more subtle ways.  For example, a loan company may want a diverse portfolio of customers across all income levels, and thus, will deem it undesirable if they are making more loans to high income levels over low income levels.  Although this is not illegal or unethical, it is undesirable for the company's strategy.\n",
    "\n",
    "As these two examples illustrate, a bias detection and/or mitigation toolkit needs to be tailored to the particular bias of interest.  More specifically, it needs to know the attribute or attributes, called *protected attributes*, that are of interest: race is one example of a *protected attribute* and age is a second.\n",
    "\n",
    "### The Machine Learning Workflow\n",
    "To understand how bias can enter a machine learning model, we first review the basics of how a model is created in a supervised machine learning process.  \n",
    "\n",
    "\n",
    "\n",
    "![image](ai360.jpeg)\n",
    "\n",
    "\n",
    "\n",
    "\n",
    "\n",
    "\n",
    "\n",
    "\n",
    "First, the process starts with a *training dataset*, which contains a sequence of instances, where each instance has two components: the features and the correct prediction for those features.  Next, a machine learning algorithm is trained on this training dataset to produce a machine learning model.  This generated model can be used to make a prediction when given a new instance.  A second dataset with features and correct predictions, called a *test dataset*, is used to assess the accuracy of the model.\n",
    "Since this test dataset is the same format as the training dataset, a set of instances of features and prediction pairs, often these two datasets derive from the same initial dataset.  A random partitioning algorithm is used to split the initial dataset into training and test datasets.\n",
    "\n",
    "Bias can enter the system in any of the three steps above.  The training data set may be biased in that its outcomes may be biased towards particular kinds of instances.  The algorithm that creates the model may be biased in that it may generate models that are weighted towards particular features in the input. The test data set may be biased in that it has expectations on correct answers that may be biased.  These three points in the machine learning process represent points for testing and mitigating bias.  In AI Fairness 360 codebase, we call these points *pre-processing*, *in-processing*, and *post-processing*. \n",
    "\n",
    "### AI Fairness 360\n",
    "We are now ready to utilize AI Fairness 360 (`aif360`) to detect and mitigate bias.  We will use the German credit dataset, splitting it into a training and test dataset.  We will look for bias in the creation of a machine learning model to predict if an applicant should be given credit based on various features from a typical credit application.  The protected attribute will be \"Age\", with \"1\" (older than or equal to 25) and \"0\" (younger than 25) being the values for the privileged and unprivileged groups, respectively.\n",
    "For this first tutorial, we will check for bias in the initial training data, mitigate the bias, and recheck.  More sophisticated machine learning workflows are given in the author tutorials and demo notebooks in the codebase.\n",
    "\n",
    "Here are the steps involved\n",
    "#### Step 1: Write import statements\n",
    "#### Step 2: Set bias detection options, load dataset, and split between train and test\n",
    "#### Step 3: Compute fairness metric on original training dataset\n",
    "#### Step 4: Mitigate bias by transforming the original dataset\n",
    "#### Step 5: Compute fairness metric on transformed training dataset\n",
    "\n",
    "### Step 1 Import Statements\n",
    "As with any python program, the first step will be to import the necessary packages.  Below we import several components from the `aif360` package.  We import the GermanDataset, metrics to check for bias, and classes related to the algorithm we will use to mitigate bias."
   ]
  },
  {
   "cell_type": "code",
   "execution_count": 1,
   "metadata": {},
   "outputs": [
    {
     "name": "stdout",
     "output_type": "stream",
     "text": [
      "Defaulting to user installation because normal site-packages is not writeable\n",
      "Requirement already satisfied: aif360 in /home/rri/.local/lib/python3.8/site-packages (0.4.0)\n",
      "Requirement already satisfied: scipy<1.6.0,>=1.2.0 in /opt/anaconda3/lib/python3.8/site-packages (from aif360) (1.5.0)\n",
      "Requirement already satisfied: numpy>=1.16 in /opt/anaconda3/lib/python3.8/site-packages (from aif360) (1.22.1)\n",
      "Requirement already satisfied: pandas>=0.24.0 in /opt/anaconda3/lib/python3.8/site-packages (from aif360) (1.0.5)\n",
      "Requirement already satisfied: tempeh in /home/rri/.local/lib/python3.8/site-packages (from aif360) (0.1.12)\n",
      "Requirement already satisfied: matplotlib in /opt/anaconda3/lib/python3.8/site-packages (from aif360) (3.2.2)\n",
      "Requirement already satisfied: scikit-learn>=0.22.1 in /opt/anaconda3/lib/python3.8/site-packages (from aif360) (0.23.1)\n",
      "Requirement already satisfied: pytz>=2017.2 in /opt/anaconda3/lib/python3.8/site-packages (from pandas>=0.24.0->aif360) (2020.1)\n",
      "Requirement already satisfied: python-dateutil>=2.6.1 in /opt/anaconda3/lib/python3.8/site-packages (from pandas>=0.24.0->aif360) (2.8.1)\n",
      "Requirement already satisfied: pytest in /opt/anaconda3/lib/python3.8/site-packages (from tempeh->aif360) (5.4.3)\n",
      "Requirement already satisfied: memory-profiler in /home/rri/.local/lib/python3.8/site-packages (from tempeh->aif360) (0.60.0)\n",
      "Requirement already satisfied: shap in /home/rri/.local/lib/python3.8/site-packages (from tempeh->aif360) (0.40.0)\n",
      "Requirement already satisfied: requests in /opt/anaconda3/lib/python3.8/site-packages (from tempeh->aif360) (2.24.0)\n",
      "Requirement already satisfied: cycler>=0.10 in /opt/anaconda3/lib/python3.8/site-packages (from matplotlib->aif360) (0.10.0)\n",
      "Requirement already satisfied: pyparsing!=2.0.4,!=2.1.2,!=2.1.6,>=2.0.1 in /opt/anaconda3/lib/python3.8/site-packages (from matplotlib->aif360) (2.4.7)\n",
      "Requirement already satisfied: kiwisolver>=1.0.1 in /opt/anaconda3/lib/python3.8/site-packages (from matplotlib->aif360) (1.2.0)\n",
      "Requirement already satisfied: threadpoolctl>=2.0.0 in /opt/anaconda3/lib/python3.8/site-packages (from scikit-learn>=0.22.1->aif360) (2.1.0)\n",
      "Requirement already satisfied: joblib>=0.11 in /opt/anaconda3/lib/python3.8/site-packages (from scikit-learn>=0.22.1->aif360) (0.16.0)\n",
      "Requirement already satisfied: six>=1.5 in /opt/anaconda3/lib/python3.8/site-packages (from python-dateutil>=2.6.1->pandas>=0.24.0->aif360) (1.16.0)\n",
      "Requirement already satisfied: py>=1.5.0 in /opt/anaconda3/lib/python3.8/site-packages (from pytest->tempeh->aif360) (1.9.0)\n",
      "Requirement already satisfied: packaging in /home/rri/.local/lib/python3.8/site-packages (from pytest->tempeh->aif360) (21.3)\n",
      "Requirement already satisfied: attrs>=17.4.0 in /opt/anaconda3/lib/python3.8/site-packages (from pytest->tempeh->aif360) (19.3.0)\n",
      "Requirement already satisfied: more-itertools>=4.0.0 in /opt/anaconda3/lib/python3.8/site-packages (from pytest->tempeh->aif360) (8.4.0)\n",
      "Requirement already satisfied: pluggy<1.0,>=0.12 in /opt/anaconda3/lib/python3.8/site-packages (from pytest->tempeh->aif360) (0.13.1)\n",
      "Requirement already satisfied: wcwidth in /opt/anaconda3/lib/python3.8/site-packages (from pytest->tempeh->aif360) (0.2.5)\n",
      "Requirement already satisfied: psutil in /opt/anaconda3/lib/python3.8/site-packages (from memory-profiler->tempeh->aif360) (5.7.0)\n",
      "Requirement already satisfied: slicer==0.0.7 in /home/rri/.local/lib/python3.8/site-packages (from shap->tempeh->aif360) (0.0.7)\n",
      "Requirement already satisfied: numba in /opt/anaconda3/lib/python3.8/site-packages (from shap->tempeh->aif360) (0.50.1)\n",
      "Requirement already satisfied: tqdm>4.25.0 in /opt/anaconda3/lib/python3.8/site-packages (from shap->tempeh->aif360) (4.47.0)\n",
      "Requirement already satisfied: cloudpickle in /opt/anaconda3/lib/python3.8/site-packages (from shap->tempeh->aif360) (1.5.0)\n",
      "Requirement already satisfied: chardet<4,>=3.0.2 in /opt/anaconda3/lib/python3.8/site-packages (from requests->tempeh->aif360) (3.0.4)\n",
      "Requirement already satisfied: urllib3!=1.25.0,!=1.25.1,<1.26,>=1.21.1 in /opt/anaconda3/lib/python3.8/site-packages (from requests->tempeh->aif360) (1.25.9)\n",
      "Requirement already satisfied: certifi>=2017.4.17 in /opt/anaconda3/lib/python3.8/site-packages (from requests->tempeh->aif360) (2020.6.20)\n",
      "Requirement already satisfied: idna<3,>=2.5 in /opt/anaconda3/lib/python3.8/site-packages (from requests->tempeh->aif360) (2.10)\n",
      "Requirement already satisfied: llvmlite<0.34,>=0.33.0.dev0 in /opt/anaconda3/lib/python3.8/site-packages (from numba->shap->tempeh->aif360) (0.33.0+1.g022ab0f)\n",
      "Requirement already satisfied: setuptools in /opt/anaconda3/lib/python3.8/site-packages (from numba->shap->tempeh->aif360) (49.2.0.post20200714)\n",
      "Defaulting to user installation because normal site-packages is not writeable\n",
      "Requirement already satisfied: fairlearn in /home/rri/.local/lib/python3.8/site-packages (0.7.0)\n",
      "Requirement already satisfied: scipy>=1.4.1 in /opt/anaconda3/lib/python3.8/site-packages (from fairlearn) (1.5.0)\n",
      "Requirement already satisfied: scikit-learn>=0.22.1 in /opt/anaconda3/lib/python3.8/site-packages (from fairlearn) (0.23.1)\n",
      "Requirement already satisfied: pandas>=0.25.1 in /opt/anaconda3/lib/python3.8/site-packages (from fairlearn) (1.0.5)\n",
      "Requirement already satisfied: numpy>=1.17.2 in /opt/anaconda3/lib/python3.8/site-packages (from fairlearn) (1.22.1)\n",
      "Requirement already satisfied: threadpoolctl>=2.0.0 in /opt/anaconda3/lib/python3.8/site-packages (from scikit-learn>=0.22.1->fairlearn) (2.1.0)\n",
      "Requirement already satisfied: joblib>=0.11 in /opt/anaconda3/lib/python3.8/site-packages (from scikit-learn>=0.22.1->fairlearn) (0.16.0)\n",
      "Requirement already satisfied: python-dateutil>=2.6.1 in /opt/anaconda3/lib/python3.8/site-packages (from pandas>=0.25.1->fairlearn) (2.8.1)\n",
      "Requirement already satisfied: pytz>=2017.2 in /opt/anaconda3/lib/python3.8/site-packages (from pandas>=0.25.1->fairlearn) (2020.1)\n",
      "Requirement already satisfied: six>=1.5 in /opt/anaconda3/lib/python3.8/site-packages (from python-dateutil>=2.6.1->pandas>=0.25.1->fairlearn) (1.16.0)\n"
     ]
    }
   ],
   "source": [
    "# Load all necessary packages\n",
    "import sys\n",
    "sys.path.insert(1, \"../\")  \n",
    "import aif360\n",
    "import numpy as np\n",
    "np.random.seed(0)\n",
    "!pip install aif360\n",
    "!pip install fairlearn\n",
    "from aif360.datasets import GermanDataset\n",
    "from aif360.metrics import BinaryLabelDatasetMetric\n",
    "from aif360.algorithms.preprocessing import Reweighing\n",
    "\n",
    "from IPython.display import Markdown, display"
   ]
  },
  {
   "cell_type": "markdown",
   "metadata": {},
   "source": [
    "### Step 2 Load dataset, specifying protected attribute, and split dataset into train and test\n",
    "In Step 2 we load the initial dataset, setting the protected attribute to be age.  We then splits the original dataset into training and testing datasets.  Although we will use only  the training dataset in this tutorial, a normal workflow would also use a test dataset for assessing the efficacy (accuracy, fairness, etc.) during the development of a machine learning model.  Finally, we set two variables (to be used in Step 3) for the privileged (1) and unprivileged (0) values for the age attribute.  These are key inputs for detecting and mitigating bias, which will be Step 3 and Step 4.  "
   ]
  },
  {
   "cell_type": "code",
   "execution_count": 2,
   "metadata": {},
   "outputs": [
    {
     "data": {
      "text/plain": [
       "aif360.datasets.german_dataset.GermanDataset"
      ]
     },
     "execution_count": 2,
     "metadata": {},
     "output_type": "execute_result"
    }
   ],
   "source": [
    "GermanDataset"
   ]
  },
  {
   "cell_type": "code",
   "execution_count": 3,
   "metadata": {},
   "outputs": [
    {
     "name": "stdout",
     "output_type": "stream",
     "text": [
      "               instance weights features                \\\n",
      "                                                         \n",
      "                                   month credit_amount   \n",
      "instance names                                           \n",
      "0                           1.0      6.0        1169.0   \n",
      "1                           1.0     48.0        5951.0   \n",
      "2                           1.0     12.0        2096.0   \n",
      "3                           1.0     42.0        7882.0   \n",
      "4                           1.0     24.0        4870.0   \n",
      "...                         ...      ...           ...   \n",
      "995                         1.0     12.0        1736.0   \n",
      "996                         1.0     30.0        3857.0   \n",
      "997                         1.0     12.0         804.0   \n",
      "998                         1.0     45.0        1845.0   \n",
      "999                         1.0     45.0        4576.0   \n",
      "\n",
      "                                                                \\\n",
      "                                                                 \n",
      "               investment_as_income_percentage residence_since   \n",
      "instance names                                                   \n",
      "0                                          4.0             4.0   \n",
      "1                                          2.0             2.0   \n",
      "2                                          2.0             3.0   \n",
      "3                                          2.0             4.0   \n",
      "4                                          3.0             4.0   \n",
      "...                                        ...             ...   \n",
      "995                                        3.0             4.0   \n",
      "996                                        4.0             4.0   \n",
      "997                                        4.0             4.0   \n",
      "998                                        4.0             4.0   \n",
      "999                                        3.0             4.0   \n",
      "\n",
      "                                                                        \\\n",
      "               protected attribute                                       \n",
      "                               age number_of_credits people_liable_for   \n",
      "instance names                                                           \n",
      "0                              1.0               2.0               1.0   \n",
      "1                              0.0               1.0               1.0   \n",
      "2                              1.0               1.0               2.0   \n",
      "3                              1.0               1.0               2.0   \n",
      "4                              1.0               2.0               2.0   \n",
      "...                            ...               ...               ...   \n",
      "995                            1.0               1.0               1.0   \n",
      "996                            1.0               1.0               1.0   \n",
      "997                            1.0               1.0               1.0   \n",
      "998                            0.0               1.0               1.0   \n",
      "999                            1.0               1.0               1.0   \n",
      "\n",
      "                                      ...                                \\\n",
      "                                      ...                                 \n",
      "               status=A11 status=A12  ... housing=A153 skill_level=A171   \n",
      "instance names                        ...                                 \n",
      "0                     1.0        0.0  ...          0.0              0.0   \n",
      "1                     0.0        1.0  ...          0.0              0.0   \n",
      "2                     0.0        0.0  ...          0.0              0.0   \n",
      "3                     1.0        0.0  ...          1.0              0.0   \n",
      "4                     1.0        0.0  ...          1.0              0.0   \n",
      "...                   ...        ...  ...          ...              ...   \n",
      "995                   0.0        0.0  ...          0.0              0.0   \n",
      "996                   1.0        0.0  ...          0.0              0.0   \n",
      "997                   0.0        0.0  ...          0.0              0.0   \n",
      "998                   1.0        0.0  ...          1.0              0.0   \n",
      "999                   0.0        1.0  ...          0.0              0.0   \n",
      "\n",
      "                                                                   \\\n",
      "                                                                    \n",
      "               skill_level=A172 skill_level=A173 skill_level=A174   \n",
      "instance names                                                      \n",
      "0                           0.0              1.0              0.0   \n",
      "1                           0.0              1.0              0.0   \n",
      "2                           1.0              0.0              0.0   \n",
      "3                           0.0              1.0              0.0   \n",
      "4                           0.0              1.0              0.0   \n",
      "...                         ...              ...              ...   \n",
      "995                         1.0              0.0              0.0   \n",
      "996                         0.0              0.0              1.0   \n",
      "997                         0.0              1.0              0.0   \n",
      "998                         0.0              1.0              0.0   \n",
      "999                         0.0              1.0              0.0   \n",
      "\n",
      "                                                                  \\\n",
      "                                                                   \n",
      "               telephone=A191 telephone=A192 foreign_worker=A201   \n",
      "instance names                                                     \n",
      "0                         0.0            1.0                 1.0   \n",
      "1                         1.0            0.0                 1.0   \n",
      "2                         1.0            0.0                 1.0   \n",
      "3                         1.0            0.0                 1.0   \n",
      "4                         1.0            0.0                 1.0   \n",
      "...                       ...            ...                 ...   \n",
      "995                       1.0            0.0                 1.0   \n",
      "996                       0.0            1.0                 1.0   \n",
      "997                       1.0            0.0                 1.0   \n",
      "998                       0.0            1.0                 1.0   \n",
      "999                       1.0            0.0                 1.0   \n",
      "\n",
      "                                   labels  \n",
      "                                           \n",
      "               foreign_worker=A202         \n",
      "instance names                             \n",
      "0                              0.0    1.0  \n",
      "1                              0.0    2.0  \n",
      "2                              0.0    1.0  \n",
      "3                              0.0    1.0  \n",
      "4                              0.0    2.0  \n",
      "...                            ...    ...  \n",
      "995                            0.0    1.0  \n",
      "996                            0.0    1.0  \n",
      "997                            0.0    1.0  \n",
      "998                            0.0    2.0  \n",
      "999                            0.0    1.0  \n",
      "\n",
      "[1000 rows x 59 columns]\n"
     ]
    }
   ],
   "source": [
    "dataset_orig = GermanDataset(\n",
    "    protected_attribute_names=['age'],           # this dataset also contains protected\n",
    "                                                 # attribute for \"sex\" which we do not\n",
    "                                                 # consider in this evaluation\n",
    "    privileged_classes=[lambda x: x >= 25],      # age >=25 is considered privileged\n",
    "    features_to_drop=['personal_status', 'sex'] # ignore sex-related attributes\n",
    ")\n",
    "print(dataset_orig)\n",
    "dataset_orig_train, dataset_orig_test = dataset_orig.split([0.7], shuffle=True)\n",
    "\n",
    "privileged_groups = [{'age': 1}]\n",
    "unprivileged_groups = [{'age': 0}]"
   ]
  },
  {
   "cell_type": "markdown",
   "metadata": {},
   "source": [
    "### Step 3 Compute fairness metric on original training dataset\n",
    "Now that we've identified the protected attribute 'age' and defined privileged and unprivileged values, we can use aif360 to detect bias in the dataset.  One simple test is to compare the percentage of favorable results for the privileged and unprivileged groups, subtracting the former percentage from the latter.   A negative value indicates less favorable outcomes for the unprivileged groups.  This is implemented in the method called mean_difference on the BinaryLabelDatasetMetric class.  The code below performs this check and displays the output, showing that the difference is -0.169905."
   ]
  },
  {
   "cell_type": "code",
   "execution_count": 4,
   "metadata": {},
   "outputs": [
    {
     "data": {
      "text/markdown": [
       "#### Original training dataset"
      ],
      "text/plain": [
       "<IPython.core.display.Markdown object>"
      ]
     },
     "metadata": {},
     "output_type": "display_data"
    },
    {
     "name": "stdout",
     "output_type": "stream",
     "text": [
      "Difference in mean outcomes between unprivileged and privileged groups = -0.169905\n"
     ]
    }
   ],
   "source": [
    "metric_orig_train = BinaryLabelDatasetMetric(dataset_orig_train, \n",
    "                                             unprivileged_groups=unprivileged_groups,\n",
    "                                             privileged_groups=privileged_groups)\n",
    "display(Markdown(\"#### Original training dataset\"))\n",
    "print(\"Difference in mean outcomes between unprivileged and privileged groups = %f\" % metric_orig_train.mean_difference())"
   ]
  },
  {
   "cell_type": "markdown",
   "metadata": {},
   "source": [
    "### Step 4 Mitigate bias by transforming the original dataset\n",
    "The previous step showed that the privileged group was getting 17% more positive outcomes in the training dataset.   Since this is not desirable, we are going to try to mitigate this bias in the training dataset.  As stated above, this is called _pre-processing_ mitigation because it happens before the creation of the model.  \n",
    "\n",
    "AI Fairness 360 implements several pre-processing mitigation algorithms.  We will choose the Reweighing algorithm [1], which is implemented in the `Reweighing` class in the `aif360.algorithms.preprocessing` package.  This algorithm will transform the dataset to have more equity in positive outcomes on the protected attribute for the privileged and unprivileged groups.\n",
    "\n",
    "We then call the fit and transform methods to perform the transformation, producing a newly transformed training dataset (dataset_transf_train).\n",
    "\n",
    "`[1] F. Kamiran and T. Calders,  \"Data Preprocessing Techniques for Classification without Discrimination,\" Knowledge and Information Systems, 2012.`"
   ]
  },
  {
   "cell_type": "code",
   "execution_count": 5,
   "metadata": {},
   "outputs": [
    {
     "data": {
      "text/plain": [
       "array([0.96229508, 0.96229508, 0.96229508, 0.96229508, 0.96229508,\n",
       "       0.96229508, 0.96229508, 0.96229508, 1.25555556, 0.678     ,\n",
       "       1.100625  , 1.100625  , 0.96229508, 0.96229508, 1.100625  ,\n",
       "       0.96229508, 1.25555556, 1.100625  , 0.96229508, 0.96229508,\n",
       "       0.96229508, 0.96229508, 0.96229508, 0.96229508, 0.96229508,\n",
       "       1.100625  , 0.96229508, 0.96229508, 0.96229508, 0.678     ,\n",
       "       0.96229508, 0.96229508, 0.678     , 1.100625  , 0.96229508,\n",
       "       0.678     , 0.96229508, 0.96229508, 1.100625  , 0.96229508,\n",
       "       1.100625  , 0.96229508, 0.96229508, 1.25555556, 0.96229508,\n",
       "       0.678     , 1.100625  , 0.96229508, 0.96229508, 1.25555556,\n",
       "       1.100625  , 1.100625  , 0.96229508, 0.96229508, 1.100625  ,\n",
       "       0.96229508, 0.96229508, 0.96229508, 0.96229508, 0.96229508,\n",
       "       1.100625  , 0.96229508, 0.96229508, 0.96229508, 0.96229508,\n",
       "       0.96229508, 0.96229508, 1.100625  , 0.678     , 0.96229508,\n",
       "       0.96229508, 0.96229508, 0.96229508, 0.96229508, 1.25555556,\n",
       "       1.100625  , 0.96229508, 1.100625  , 1.100625  , 0.96229508,\n",
       "       0.96229508, 0.96229508, 1.25555556, 0.96229508, 0.96229508,\n",
       "       0.96229508, 0.678     , 0.96229508, 0.96229508, 0.96229508,\n",
       "       0.96229508, 0.96229508, 0.96229508, 0.96229508, 0.96229508,\n",
       "       1.100625  , 0.96229508, 0.96229508, 1.25555556, 0.96229508,\n",
       "       0.96229508, 1.25555556, 0.96229508, 0.96229508, 0.96229508,\n",
       "       0.96229508, 0.96229508, 1.100625  , 1.100625  , 0.96229508,\n",
       "       0.96229508, 1.100625  , 1.100625  , 1.25555556, 0.96229508,\n",
       "       0.96229508, 1.100625  , 0.96229508, 0.96229508, 1.25555556,\n",
       "       1.100625  , 0.96229508, 1.25555556, 1.100625  , 0.96229508,\n",
       "       0.96229508, 1.25555556, 0.96229508, 0.96229508, 0.96229508,\n",
       "       0.678     , 0.96229508, 0.678     , 0.96229508, 0.96229508,\n",
       "       1.100625  , 0.96229508, 0.96229508, 0.96229508, 0.96229508,\n",
       "       1.25555556, 0.96229508, 0.96229508, 0.678     , 1.100625  ,\n",
       "       1.100625  , 0.96229508, 0.96229508, 1.100625  , 0.96229508,\n",
       "       0.96229508, 0.96229508, 0.96229508, 1.100625  , 0.96229508,\n",
       "       0.96229508, 1.100625  , 0.96229508, 0.96229508, 0.96229508,\n",
       "       1.100625  , 0.96229508, 0.96229508, 1.100625  , 1.100625  ,\n",
       "       1.100625  , 1.100625  , 0.96229508, 1.100625  , 0.96229508,\n",
       "       0.96229508, 1.25555556, 0.96229508, 1.100625  , 0.96229508,\n",
       "       0.678     , 1.100625  , 1.100625  , 0.96229508, 1.25555556,\n",
       "       0.96229508, 0.96229508, 0.96229508, 1.100625  , 0.96229508,\n",
       "       0.678     , 0.96229508, 0.96229508, 0.96229508, 0.96229508,\n",
       "       1.100625  , 1.100625  , 1.100625  , 0.96229508, 0.96229508,\n",
       "       0.96229508, 0.678     , 0.96229508, 1.100625  , 0.96229508,\n",
       "       0.96229508, 1.100625  , 0.678     , 1.100625  , 1.25555556,\n",
       "       0.96229508, 1.100625  , 0.96229508, 0.96229508, 0.96229508,\n",
       "       1.100625  , 0.96229508, 1.100625  , 0.96229508, 0.96229508,\n",
       "       1.25555556, 0.96229508, 0.96229508, 0.96229508, 0.678     ,\n",
       "       0.678     , 0.96229508, 1.25555556, 0.96229508, 0.96229508,\n",
       "       0.96229508, 1.25555556, 1.100625  , 1.100625  , 1.25555556,\n",
       "       0.96229508, 0.678     , 1.100625  , 0.96229508, 1.100625  ,\n",
       "       1.25555556, 0.96229508, 0.96229508, 0.96229508, 1.100625  ,\n",
       "       1.100625  , 0.96229508, 0.96229508, 1.100625  , 0.96229508,\n",
       "       0.96229508, 0.96229508, 0.96229508, 0.96229508, 0.96229508,\n",
       "       0.96229508, 0.96229508, 0.96229508, 0.96229508, 0.96229508,\n",
       "       0.96229508, 0.96229508, 0.96229508, 0.96229508, 0.96229508,\n",
       "       0.96229508, 0.96229508, 1.25555556, 0.96229508, 0.96229508,\n",
       "       1.100625  , 0.96229508, 0.678     , 0.96229508, 1.100625  ,\n",
       "       1.100625  , 1.100625  , 0.96229508, 0.96229508, 0.96229508,\n",
       "       0.96229508, 0.96229508, 0.96229508, 1.100625  , 1.100625  ,\n",
       "       0.96229508, 0.96229508, 0.96229508, 0.96229508, 1.100625  ,\n",
       "       1.25555556, 0.96229508, 0.96229508, 0.96229508, 0.96229508,\n",
       "       0.96229508, 0.96229508, 1.25555556, 0.96229508, 1.100625  ,\n",
       "       1.25555556, 0.678     , 0.96229508, 1.100625  , 1.100625  ,\n",
       "       1.100625  , 1.100625  , 0.96229508, 0.96229508, 0.96229508,\n",
       "       1.25555556, 1.100625  , 1.100625  , 1.100625  , 0.96229508,\n",
       "       1.100625  , 1.100625  , 0.96229508, 0.96229508, 1.25555556,\n",
       "       0.96229508, 1.25555556, 0.96229508, 0.96229508, 0.96229508,\n",
       "       0.96229508, 0.96229508, 0.96229508, 1.100625  , 0.96229508,\n",
       "       1.100625  , 0.96229508, 1.100625  , 0.96229508, 0.96229508,\n",
       "       0.96229508, 0.96229508, 0.96229508, 0.96229508, 0.96229508,\n",
       "       0.96229508, 1.100625  , 0.96229508, 1.100625  , 1.25555556,\n",
       "       1.100625  , 0.96229508, 0.678     , 1.25555556, 0.96229508,\n",
       "       0.678     , 1.100625  , 0.96229508, 1.100625  , 1.100625  ,\n",
       "       0.96229508, 0.96229508, 0.96229508, 0.96229508, 0.96229508,\n",
       "       0.96229508, 0.96229508, 1.100625  , 1.100625  , 1.25555556,\n",
       "       1.25555556, 0.96229508, 1.100625  , 1.100625  , 0.96229508,\n",
       "       0.96229508, 1.100625  , 0.96229508, 1.100625  , 0.678     ,\n",
       "       0.96229508, 1.100625  , 0.96229508, 1.25555556, 0.96229508,\n",
       "       1.100625  , 0.678     , 0.96229508, 0.96229508, 0.96229508,\n",
       "       0.678     , 1.25555556, 0.96229508, 1.25555556, 0.678     ,\n",
       "       1.100625  , 1.100625  , 0.96229508, 0.96229508, 0.678     ,\n",
       "       0.96229508, 0.96229508, 0.96229508, 0.96229508, 1.100625  ,\n",
       "       0.96229508, 0.96229508, 0.678     , 1.25555556, 1.100625  ,\n",
       "       0.96229508, 0.96229508, 0.678     , 0.96229508, 0.96229508,\n",
       "       1.100625  , 1.100625  , 0.96229508, 1.100625  , 1.100625  ,\n",
       "       0.96229508, 0.96229508, 0.96229508, 0.96229508, 0.96229508,\n",
       "       0.96229508, 0.96229508, 0.96229508, 0.96229508, 0.678     ,\n",
       "       0.96229508, 0.96229508, 0.96229508, 1.25555556, 0.96229508,\n",
       "       0.96229508, 0.96229508, 0.678     , 0.96229508, 1.100625  ,\n",
       "       0.96229508, 0.96229508, 0.96229508, 0.96229508, 0.96229508,\n",
       "       0.96229508, 1.100625  , 0.96229508, 1.100625  , 0.678     ,\n",
       "       0.96229508, 0.96229508, 0.96229508, 0.96229508, 0.96229508,\n",
       "       0.96229508, 0.96229508, 1.25555556, 0.678     , 1.100625  ,\n",
       "       0.96229508, 1.100625  , 0.96229508, 1.100625  , 0.96229508,\n",
       "       1.25555556, 0.96229508, 0.96229508, 1.25555556, 1.100625  ,\n",
       "       1.100625  , 1.100625  , 0.96229508, 0.96229508, 0.96229508,\n",
       "       0.96229508, 1.25555556, 0.96229508, 0.96229508, 0.678     ,\n",
       "       1.100625  , 0.96229508, 0.96229508, 0.96229508, 0.96229508,\n",
       "       0.96229508, 1.25555556, 1.100625  , 0.96229508, 0.96229508,\n",
       "       0.96229508, 1.25555556, 0.96229508, 0.96229508, 1.100625  ,\n",
       "       0.96229508, 1.100625  , 1.25555556, 0.96229508, 1.100625  ,\n",
       "       1.25555556, 0.96229508, 1.100625  , 0.96229508, 0.96229508,\n",
       "       1.100625  , 1.100625  , 0.96229508, 0.96229508, 1.100625  ,\n",
       "       1.100625  , 0.96229508, 0.96229508, 0.96229508, 0.678     ,\n",
       "       0.96229508, 0.96229508, 0.96229508, 1.100625  , 0.96229508,\n",
       "       0.96229508, 0.96229508, 0.96229508, 1.25555556, 0.96229508,\n",
       "       0.96229508, 0.96229508, 0.96229508, 0.96229508, 0.96229508,\n",
       "       0.96229508, 1.100625  , 1.100625  , 0.96229508, 0.96229508,\n",
       "       0.96229508, 1.25555556, 0.96229508, 0.96229508, 0.96229508,\n",
       "       0.96229508, 1.100625  , 0.96229508, 0.96229508, 1.25555556,\n",
       "       0.96229508, 1.100625  , 1.100625  , 0.96229508, 0.96229508,\n",
       "       1.25555556, 0.96229508, 0.96229508, 0.96229508, 0.96229508,\n",
       "       0.678     , 0.96229508, 1.100625  , 1.25555556, 0.96229508,\n",
       "       0.96229508, 0.96229508, 1.25555556, 0.678     , 0.96229508,\n",
       "       0.96229508, 1.25555556, 0.678     , 0.96229508, 0.96229508,\n",
       "       0.96229508, 0.96229508, 0.96229508, 0.96229508, 1.100625  ,\n",
       "       0.96229508, 0.678     , 1.100625  , 1.100625  , 1.100625  ,\n",
       "       0.96229508, 1.100625  , 0.96229508, 1.100625  , 0.96229508,\n",
       "       0.96229508, 0.96229508, 0.96229508, 0.678     , 1.100625  ,\n",
       "       0.96229508, 0.96229508, 0.678     , 1.25555556, 0.96229508,\n",
       "       0.96229508, 0.96229508, 1.100625  , 0.96229508, 1.100625  ,\n",
       "       1.100625  , 0.96229508, 0.678     , 0.96229508, 0.96229508,\n",
       "       1.100625  , 0.96229508, 0.96229508, 0.96229508, 0.96229508,\n",
       "       1.100625  , 0.96229508, 0.678     , 1.100625  , 1.100625  ,\n",
       "       0.678     , 0.96229508, 1.100625  , 0.96229508, 0.678     ,\n",
       "       0.96229508, 1.25555556, 0.678     , 1.25555556, 0.96229508,\n",
       "       0.96229508, 0.96229508, 1.100625  , 0.96229508, 0.96229508,\n",
       "       1.100625  , 1.100625  , 0.96229508, 0.96229508, 0.96229508,\n",
       "       0.96229508, 0.96229508, 0.96229508, 0.96229508, 1.100625  ,\n",
       "       0.96229508, 0.96229508, 0.96229508, 0.96229508, 0.96229508,\n",
       "       0.678     , 1.25555556, 0.96229508, 0.96229508, 0.96229508,\n",
       "       0.96229508, 0.96229508, 0.96229508, 0.678     , 0.96229508,\n",
       "       0.96229508, 1.100625  , 0.678     , 1.100625  , 1.100625  ,\n",
       "       1.25555556, 0.96229508, 0.96229508, 0.96229508, 0.96229508,\n",
       "       0.96229508, 1.100625  , 0.96229508, 0.96229508, 1.100625  ,\n",
       "       1.100625  , 0.96229508, 0.96229508, 0.96229508, 0.96229508,\n",
       "       1.100625  , 0.96229508, 1.25555556, 1.100625  , 0.96229508,\n",
       "       0.678     , 0.96229508, 1.25555556, 0.96229508, 0.96229508,\n",
       "       0.678     , 1.25555556, 1.25555556, 0.96229508, 0.96229508,\n",
       "       0.96229508, 1.100625  , 0.96229508, 1.100625  , 0.96229508,\n",
       "       1.100625  , 1.100625  , 1.100625  , 1.100625  , 0.96229508,\n",
       "       0.96229508, 1.100625  , 1.100625  , 0.96229508, 0.96229508,\n",
       "       0.96229508, 1.25555556, 1.25555556, 0.96229508, 0.96229508])"
      ]
     },
     "execution_count": 5,
     "metadata": {},
     "output_type": "execute_result"
    }
   ],
   "source": [
    "RW = Reweighing(unprivileged_groups=unprivileged_groups,\n",
    "                privileged_groups=privileged_groups)\n",
    "dataset_transf_train = RW.fit_transform(dataset_orig_train)\n",
    "dataset_transf_train.instance_weights"
   ]
  },
  {
   "cell_type": "markdown",
   "metadata": {},
   "source": [
    "### Step 5 Compute fairness metric on transformed dataset\n",
    "Now that we have a transformed dataset, we can check how effective it was in removing bias by using the same metric we used for the original training dataset in Step 3.  Once again, we use the function mean_difference in the BinaryLabelDatasetMetric class.   We see the mitigation step was very effective, the difference in mean outcomes is now 0.0.  So we went from a 17% advantage for the privileged group to equality in terms of mean outcome."
   ]
  },
  {
   "cell_type": "code",
   "execution_count": 6,
   "metadata": {},
   "outputs": [
    {
     "data": {
      "text/markdown": [
       "#### Transformed training dataset"
      ],
      "text/plain": [
       "<IPython.core.display.Markdown object>"
      ]
     },
     "metadata": {},
     "output_type": "display_data"
    },
    {
     "name": "stdout",
     "output_type": "stream",
     "text": [
      "Difference in mean outcomes between unprivileged and privileged groups = 0.000000\n"
     ]
    }
   ],
   "source": [
    "metric_transf_train = BinaryLabelDatasetMetric(dataset_transf_train, \n",
    "                                               unprivileged_groups=unprivileged_groups,\n",
    "                                               privileged_groups=privileged_groups)\n",
    "display(Markdown(\"#### Transformed training dataset\"))\n",
    "print(\"Difference in mean outcomes between unprivileged and privileged groups = %f\" % metric_transf_train.mean_difference())"
   ]
  },
  {
   "cell_type": "markdown",
   "metadata": {},
   "source": [
    "## Task 2. Assess and mitigate bias on the Titanic Dataset\n",
    "\n",
    "[Titanic](https://www.kaggle.com/c/titanic) is a famous competition in Kaggle. However, Titanic models typically rely too heavily on sex as a feature. Your goal in this task is to apply the same procedure above to the titanic dataset (Step 1-5) and compare the accuracy of an original model and the \"fair\" model (Step 6).\n",
    "\n"
   ]
  },
  {
   "cell_type": "markdown",
   "metadata": {},
   "source": [
    "### Repeat \"Step 1-5\" on the Titanic dataset\n",
    "Please note that `sex` (rather than `age`) is the protected attribute.\n",
    "\n",
    "* Step 1: Write import statements\n",
    "* Step 2: Set bias detection options, load dataset, and split between train and test\n",
    "* Step 3: Compute fairness metric on original training dataset\n",
    "* Step 4: Mitigate bias by transforming the original dataset\n",
    "* Step 5: Compute fairness metric on transformed training dataset"
   ]
  },
  {
   "cell_type": "code",
   "execution_count": 503,
   "metadata": {},
   "outputs": [],
   "source": [
    "import pandas as pd\n",
    "titanic_orig=pd.read_csv('train.csv')"
   ]
  },
  {
   "cell_type": "code",
   "execution_count": 504,
   "metadata": {
    "scrolled": true
   },
   "outputs": [],
   "source": [
    "titanic_orig=titanic_orig.drop(['Name','Ticket','PassengerId','Cabin'], axis = 1)"
   ]
  },
  {
   "cell_type": "code",
   "execution_count": 505,
   "metadata": {},
   "outputs": [],
   "source": [
    "titanic_orig.loc[titanic_orig.Sex=='male','Sex'] = 1\n",
    "titanic_orig.loc[titanic_orig.Sex=='female','Sex'] = 0"
   ]
  },
  {
   "cell_type": "code",
   "execution_count": 506,
   "metadata": {},
   "outputs": [],
   "source": [
    "titanic_orig.loc[titanic_orig.Embarked=='S','Embarked']=2\n",
    "titanic_orig.loc[titanic_orig.Embarked=='C','Embarked']=1\n",
    "titanic_orig.loc[titanic_orig.Embarked=='Q','Embarked']=0"
   ]
  },
  {
   "cell_type": "code",
   "execution_count": 507,
   "metadata": {},
   "outputs": [],
   "source": [
    "titanic_orig['Age'].fillna((titanic_orig['Age'].mean()),inplace=True)"
   ]
  },
  {
   "cell_type": "code",
   "execution_count": 508,
   "metadata": {},
   "outputs": [],
   "source": [
    "titanic_orig['Survived'].fillna((titanic_orig['Survived'].mode()),inplace=True)\n",
    "titanic_orig['Pclass'].fillna((titanic_orig['Pclass'].mode()),inplace=True)\n",
    "titanic_orig['Sex'].fillna((titanic_orig['Sex'].mode()),inplace=True)\n",
    "titanic_orig['SibSp'].fillna((titanic_orig['SibSp'].mode()),inplace=True)\n",
    "titanic_orig['Parch'].fillna((titanic_orig['Parch'].mode()),inplace=True)\n",
    "titanic_orig['Fare'].fillna((titanic_orig['Fare'].mean()),inplace=True)\n",
    "titanic_orig['Embarked'].fillna((titanic_orig['Embarked'].mean()),inplace=True)"
   ]
  },
  {
   "cell_type": "code",
   "execution_count": 509,
   "metadata": {},
   "outputs": [],
   "source": [
    "binaryLabelDataset = aif360.datasets.BinaryLabelDataset(\n",
    "    favorable_label=1,\n",
    "    unfavorable_label=0,\n",
    "    df=titanic_orig,\n",
    "    label_names=['Survived'],\n",
    "    protected_attribute_names=['Sex'])\n",
    "privileged_groups = [{'Sex': 1}]\n",
    "unprivileged_groups = [{'Sex': 0}]"
   ]
  },
  {
   "cell_type": "code",
   "execution_count": 510,
   "metadata": {},
   "outputs": [],
   "source": [
    "##binaryLabelDataset1=binaryLabelDataset.convert_to_dataframe()[0]"
   ]
  },
  {
   "cell_type": "code",
   "execution_count": 511,
   "metadata": {},
   "outputs": [],
   "source": [
    "titanic_original_train,titanic_original_test = binaryLabelDataset.split([0.7], shuffle=True)"
   ]
  },
  {
   "cell_type": "code",
   "execution_count": 512,
   "metadata": {},
   "outputs": [
    {
     "data": {
      "text/markdown": [
       "#### Original training dataset"
      ],
      "text/plain": [
       "<IPython.core.display.Markdown object>"
      ]
     },
     "metadata": {},
     "output_type": "display_data"
    },
    {
     "name": "stdout",
     "output_type": "stream",
     "text": [
      "Difference in mean outcomes between unprivileged and privileged groups = 0.534477\n"
     ]
    }
   ],
   "source": [
    "metric_titanic_train = BinaryLabelDatasetMetric(dataset_titanic_original_train, \n",
    "                                             unprivileged_groups=unprivileged_groups,\n",
    "                                             privileged_groups=privileged_groups)\n",
    "display(Markdown(\"#### Original training dataset\"))\n",
    "print(\"Difference in mean outcomes between unprivileged and privileged groups = %f\" % metric_titanic_train.mean_difference())"
   ]
  },
  {
   "cell_type": "code",
   "execution_count": 513,
   "metadata": {},
   "outputs": [
    {
     "data": {
      "text/plain": [
       "array([0.53135961, 0.7634899 , 0.7634899 , 0.53135961, 0.7634899 ,\n",
       "       0.53135961, 0.7634899 , 2.3557097 , 0.7634899 , 0.53135961,\n",
       "       0.7634899 , 0.53135961, 0.53135961, 0.7634899 , 0.7634899 ,\n",
       "       0.7634899 , 0.7634899 , 0.7634899 , 0.53135961, 0.53135961,\n",
       "       0.7634899 , 2.3557097 , 0.7634899 , 0.53135961, 0.53135961,\n",
       "       1.90380647, 0.7634899 , 1.90380647, 0.7634899 , 0.7634899 ,\n",
       "       0.7634899 , 2.3557097 , 1.90380647, 0.7634899 , 0.53135961,\n",
       "       0.7634899 , 0.7634899 , 0.7634899 , 0.7634899 , 1.90380647,\n",
       "       1.90380647, 0.7634899 , 0.53135961, 1.90380647, 0.7634899 ,\n",
       "       0.7634899 , 0.7634899 , 0.7634899 , 2.3557097 , 0.7634899 ,\n",
       "       0.7634899 , 0.7634899 , 0.7634899 , 1.90380647, 1.90380647,\n",
       "       0.7634899 , 0.7634899 , 0.53135961, 0.53135961, 2.3557097 ,\n",
       "       0.7634899 , 0.7634899 , 0.53135961, 0.7634899 , 1.90380647,\n",
       "       0.7634899 , 0.53135961, 0.7634899 , 0.7634899 , 0.7634899 ,\n",
       "       0.7634899 , 0.7634899 , 1.90380647, 0.7634899 , 0.7634899 ,\n",
       "       0.53135961, 1.90380647, 0.7634899 , 0.53135961, 0.53135961,\n",
       "       2.3557097 , 0.7634899 , 0.7634899 , 1.90380647, 0.7634899 ,\n",
       "       0.53135961, 0.7634899 , 1.90380647, 0.53135961, 2.3557097 ,\n",
       "       0.53135961, 1.90380647, 2.3557097 , 2.3557097 , 1.90380647,\n",
       "       1.90380647, 0.7634899 , 0.7634899 , 0.7634899 , 0.53135961,\n",
       "       0.7634899 , 0.53135961, 1.90380647, 0.53135961, 0.7634899 ,\n",
       "       2.3557097 , 0.53135961, 0.53135961, 0.7634899 , 0.7634899 ,\n",
       "       0.53135961, 0.7634899 , 0.7634899 , 0.53135961, 0.7634899 ,\n",
       "       0.7634899 , 0.7634899 , 0.7634899 , 0.7634899 , 0.53135961,\n",
       "       0.7634899 , 1.90380647, 0.53135961, 0.7634899 , 0.7634899 ,\n",
       "       0.53135961, 0.7634899 , 0.7634899 , 0.53135961, 0.7634899 ,\n",
       "       2.3557097 , 0.53135961, 0.7634899 , 0.7634899 , 0.7634899 ,\n",
       "       0.7634899 , 0.7634899 , 0.53135961, 0.53135961, 1.90380647,\n",
       "       0.7634899 , 0.53135961, 0.7634899 , 0.53135961, 0.53135961,\n",
       "       0.53135961, 0.7634899 , 2.3557097 , 0.7634899 , 0.7634899 ,\n",
       "       0.53135961, 0.53135961, 2.3557097 , 1.90380647, 0.7634899 ,\n",
       "       2.3557097 , 1.90380647, 0.7634899 , 0.7634899 , 0.53135961,\n",
       "       1.90380647, 0.53135961, 0.7634899 , 0.53135961, 0.7634899 ,\n",
       "       2.3557097 , 0.7634899 , 2.3557097 , 2.3557097 , 0.53135961,\n",
       "       1.90380647, 0.7634899 , 0.7634899 , 0.7634899 , 1.90380647,\n",
       "       0.53135961, 0.7634899 , 0.7634899 , 2.3557097 , 0.7634899 ,\n",
       "       0.7634899 , 0.7634899 , 0.7634899 , 0.7634899 , 0.53135961,\n",
       "       0.7634899 , 2.3557097 , 0.7634899 , 0.7634899 , 1.90380647,\n",
       "       0.7634899 , 0.7634899 , 0.53135961, 1.90380647, 0.53135961,\n",
       "       0.7634899 , 1.90380647, 1.90380647, 0.53135961, 1.90380647,\n",
       "       0.7634899 , 0.53135961, 2.3557097 , 0.7634899 , 2.3557097 ,\n",
       "       0.7634899 , 0.53135961, 1.90380647, 0.53135961, 0.7634899 ,\n",
       "       0.7634899 , 0.7634899 , 0.7634899 , 0.53135961, 0.53135961,\n",
       "       0.7634899 , 0.53135961, 1.90380647, 2.3557097 , 0.7634899 ,\n",
       "       0.53135961, 0.53135961, 2.3557097 , 2.3557097 , 0.7634899 ,\n",
       "       0.7634899 , 0.7634899 , 0.7634899 , 0.7634899 , 0.53135961,\n",
       "       0.53135961, 0.7634899 , 0.7634899 , 0.53135961, 0.7634899 ,\n",
       "       0.53135961, 1.90380647, 0.53135961, 0.53135961, 0.7634899 ,\n",
       "       0.53135961, 0.7634899 , 0.53135961, 0.7634899 , 0.7634899 ,\n",
       "       0.7634899 , 1.90380647, 0.53135961, 0.7634899 , 0.7634899 ,\n",
       "       0.53135961, 0.53135961, 0.7634899 , 0.7634899 , 0.53135961,\n",
       "       0.53135961, 0.7634899 , 0.7634899 , 0.7634899 , 0.53135961,\n",
       "       2.3557097 , 0.53135961, 0.53135961, 1.90380647, 0.53135961,\n",
       "       0.7634899 , 0.7634899 , 0.7634899 , 0.7634899 , 0.7634899 ,\n",
       "       0.7634899 , 0.7634899 , 0.53135961, 2.3557097 , 2.3557097 ,\n",
       "       0.7634899 , 0.7634899 , 0.7634899 , 2.3557097 , 0.53135961,\n",
       "       0.7634899 , 0.53135961, 0.7634899 , 1.90380647, 0.7634899 ,\n",
       "       0.7634899 , 0.53135961, 0.7634899 , 0.7634899 , 0.7634899 ,\n",
       "       0.7634899 , 1.90380647, 0.7634899 , 2.3557097 , 1.90380647,\n",
       "       0.53135961, 0.7634899 , 0.7634899 , 1.90380647, 0.53135961,\n",
       "       0.7634899 , 1.90380647, 0.53135961, 0.7634899 , 0.7634899 ,\n",
       "       0.7634899 , 0.53135961, 0.53135961, 0.7634899 , 2.3557097 ,\n",
       "       0.7634899 , 0.53135961, 0.53135961, 0.7634899 , 1.90380647,\n",
       "       0.53135961, 0.7634899 , 0.53135961, 0.7634899 , 1.90380647,\n",
       "       0.7634899 , 0.53135961, 0.7634899 , 1.90380647, 0.53135961,\n",
       "       2.3557097 , 2.3557097 , 0.7634899 , 1.90380647, 0.7634899 ,\n",
       "       0.7634899 , 2.3557097 , 1.90380647, 0.7634899 , 1.90380647,\n",
       "       0.53135961, 0.53135961, 0.7634899 , 0.7634899 , 0.7634899 ,\n",
       "       1.90380647, 0.7634899 , 0.7634899 , 1.90380647, 1.90380647,\n",
       "       0.53135961, 2.3557097 , 0.7634899 , 0.53135961, 0.7634899 ,\n",
       "       0.7634899 , 0.7634899 , 0.53135961, 0.53135961, 1.90380647,\n",
       "       0.53135961, 2.3557097 , 0.7634899 , 0.7634899 , 0.7634899 ,\n",
       "       1.90380647, 0.7634899 , 0.53135961, 0.7634899 , 0.7634899 ,\n",
       "       1.90380647, 0.7634899 , 2.3557097 , 2.3557097 , 0.7634899 ,\n",
       "       0.7634899 , 0.53135961, 0.7634899 , 1.90380647, 1.90380647,\n",
       "       1.90380647, 0.7634899 , 2.3557097 , 0.7634899 , 0.7634899 ,\n",
       "       0.7634899 , 0.7634899 , 1.90380647, 2.3557097 , 0.7634899 ,\n",
       "       0.7634899 , 0.53135961, 1.90380647, 1.90380647, 0.7634899 ,\n",
       "       0.53135961, 0.7634899 , 0.7634899 , 0.7634899 , 0.7634899 ,\n",
       "       0.53135961, 1.90380647, 0.7634899 , 0.53135961, 0.7634899 ,\n",
       "       0.53135961, 0.7634899 , 0.7634899 , 0.7634899 , 0.7634899 ,\n",
       "       0.53135961, 0.7634899 , 0.7634899 , 0.7634899 , 0.7634899 ,\n",
       "       1.90380647, 0.53135961, 0.53135961, 0.53135961, 0.7634899 ,\n",
       "       0.7634899 , 0.7634899 , 0.53135961, 0.7634899 , 0.7634899 ,\n",
       "       0.53135961, 0.7634899 , 0.7634899 , 0.53135961, 0.7634899 ,\n",
       "       0.7634899 , 0.7634899 , 0.7634899 , 0.7634899 , 0.7634899 ,\n",
       "       0.7634899 , 0.7634899 , 0.7634899 , 0.53135961, 0.7634899 ,\n",
       "       0.7634899 , 0.7634899 , 0.53135961, 1.90380647, 0.53135961,\n",
       "       0.7634899 , 0.7634899 , 0.7634899 , 2.3557097 , 0.7634899 ,\n",
       "       1.90380647, 0.53135961, 0.7634899 , 0.53135961, 0.53135961,\n",
       "       0.7634899 , 0.7634899 , 0.7634899 , 0.7634899 , 0.7634899 ,\n",
       "       0.53135961, 0.7634899 , 0.7634899 , 0.7634899 , 0.53135961,\n",
       "       0.53135961, 1.90380647, 1.90380647, 0.7634899 , 0.53135961,\n",
       "       0.7634899 , 1.90380647, 0.7634899 , 0.7634899 , 0.7634899 ,\n",
       "       0.53135961, 0.7634899 , 0.7634899 , 2.3557097 , 0.7634899 ,\n",
       "       0.7634899 , 0.53135961, 0.7634899 , 0.53135961, 0.7634899 ,\n",
       "       0.7634899 , 0.7634899 , 0.53135961, 0.53135961, 0.7634899 ,\n",
       "       0.7634899 , 1.90380647, 0.7634899 , 2.3557097 , 0.7634899 ,\n",
       "       0.7634899 , 0.53135961, 0.7634899 , 0.53135961, 0.7634899 ,\n",
       "       0.7634899 , 0.7634899 , 0.7634899 , 0.53135961, 0.7634899 ,\n",
       "       2.3557097 , 0.7634899 , 1.90380647, 0.7634899 , 0.7634899 ,\n",
       "       1.90380647, 1.90380647, 0.53135961, 0.7634899 , 0.53135961,\n",
       "       0.7634899 , 0.53135961, 1.90380647, 0.7634899 , 1.90380647,\n",
       "       1.90380647, 0.53135961, 0.7634899 , 0.53135961, 1.90380647,\n",
       "       0.7634899 , 0.7634899 , 0.7634899 , 0.53135961, 0.53135961,\n",
       "       0.7634899 , 0.7634899 , 0.7634899 , 0.53135961, 1.90380647,\n",
       "       0.7634899 , 0.53135961, 0.7634899 , 1.90380647, 0.7634899 ,\n",
       "       0.7634899 , 0.53135961, 2.3557097 , 0.53135961, 2.3557097 ,\n",
       "       1.90380647, 0.53135961, 0.7634899 , 1.90380647, 0.7634899 ,\n",
       "       0.53135961, 0.7634899 , 0.7634899 , 0.7634899 , 0.7634899 ,\n",
       "       0.53135961, 0.53135961, 0.7634899 , 0.53135961, 1.90380647,\n",
       "       1.90380647, 0.7634899 , 2.3557097 , 0.53135961, 1.90380647,\n",
       "       0.53135961, 0.53135961, 0.7634899 , 0.7634899 , 0.53135961,\n",
       "       0.7634899 , 0.7634899 , 0.7634899 , 0.7634899 , 0.7634899 ,\n",
       "       2.3557097 , 0.7634899 , 0.53135961, 0.7634899 , 0.53135961,\n",
       "       0.7634899 , 2.3557097 , 0.7634899 , 0.7634899 , 0.7634899 ,\n",
       "       2.3557097 , 1.90380647, 0.7634899 , 2.3557097 , 0.53135961,\n",
       "       0.7634899 , 0.7634899 , 0.53135961, 0.53135961, 2.3557097 ,\n",
       "       0.7634899 , 1.90380647, 0.53135961, 0.7634899 , 0.7634899 ,\n",
       "       0.53135961, 2.3557097 , 0.7634899 , 2.3557097 , 0.53135961,\n",
       "       0.7634899 , 0.7634899 , 1.90380647, 0.7634899 , 0.7634899 ,\n",
       "       1.90380647, 0.7634899 , 0.7634899 , 0.7634899 , 2.3557097 ,\n",
       "       0.7634899 , 0.7634899 , 0.7634899 , 0.53135961, 0.7634899 ,\n",
       "       1.90380647, 2.3557097 , 0.53135961, 0.53135961, 0.7634899 ,\n",
       "       0.7634899 , 0.53135961, 2.3557097 ])"
      ]
     },
     "execution_count": 513,
     "metadata": {},
     "output_type": "execute_result"
    }
   ],
   "source": [
    "RW = Reweighing(unprivileged_groups=unprivileged_groups,\n",
    "                privileged_groups=privileged_groups)\n",
    "dataset_titanic_transformed_data = RW.fit_transform(dataset_titanic_train)\n",
    "dataset_titanic_transformed_data.instance_weights"
   ]
  },
  {
   "cell_type": "code",
   "execution_count": 514,
   "metadata": {},
   "outputs": [
    {
     "data": {
      "text/markdown": [
       "#### Transformed training dataset"
      ],
      "text/plain": [
       "<IPython.core.display.Markdown object>"
      ]
     },
     "metadata": {},
     "output_type": "display_data"
    },
    {
     "name": "stdout",
     "output_type": "stream",
     "text": [
      "Difference in mean outcomes between unprivileged and privileged groups = -0.000000\n"
     ]
    }
   ],
   "source": [
    "metric_titanic_train_transformed = BinaryLabelDatasetMetric(dataset_titanic_transformed_data, \n",
    "                                               unprivileged_groups=unprivileged_groups,\n",
    "                                               privileged_groups=privileged_groups)\n",
    "display(Markdown(\"#### Transformed training dataset\"))\n",
    "print(\"Difference in mean outcomes between unprivileged and privileged groups = %f\" % metric_titanic_train_tansformed.mean_difference())"
   ]
  },
  {
   "cell_type": "code",
   "execution_count": 515,
   "metadata": {},
   "outputs": [],
   "source": [
    "titanic_transformed_train,titanic_transformed_test=dataset_titanic_transformed_data.split([0.7], shuffle=True)"
   ]
  },
  {
   "cell_type": "code",
   "execution_count": null,
   "metadata": {},
   "outputs": [],
   "source": []
  },
  {
   "cell_type": "code",
   "execution_count": null,
   "metadata": {},
   "outputs": [],
   "source": []
  },
  {
   "cell_type": "code",
   "execution_count": 516,
   "metadata": {},
   "outputs": [],
   "source": [
    "titanic_original_train=titanic_original_train.convert_to_dataframe()[0]"
   ]
  },
  {
   "cell_type": "code",
   "execution_count": 517,
   "metadata": {},
   "outputs": [],
   "source": [
    "titanic_original_test=titanic_original_test.convert_to_dataframe()[0]"
   ]
  },
  {
   "cell_type": "code",
   "execution_count": 518,
   "metadata": {},
   "outputs": [],
   "source": [
    "titanic_transformed_train=titanic_transformed_train.convert_to_dataframe()[0]"
   ]
  },
  {
   "cell_type": "code",
   "execution_count": 519,
   "metadata": {},
   "outputs": [],
   "source": [
    "titanic_transformed_test=titanic_transformed_test.convert_to_dataframe()[0]"
   ]
  },
  {
   "cell_type": "markdown",
   "metadata": {},
   "source": [
    "### Step 6 Compare the performance of the models"
   ]
  },
  {
   "cell_type": "markdown",
   "metadata": {},
   "source": [
    "Train two logistic regression models: one on the original training dataset and the other on the transformed dataset. Compare the accuracy of the two models on the same test dataset. Note that reweighting is only applied on the training data **not** on the test dataset."
   ]
  },
  {
   "cell_type": "code",
   "execution_count": 520,
   "metadata": {},
   "outputs": [
    {
     "name": "stdout",
     "output_type": "stream",
     "text": [
      "Defaulting to user installation because normal site-packages is not writeable\n",
      "Requirement already satisfied: BlackBoxAuditing in /home/rri/.local/lib/python3.8/site-packages (0.1.54)\n",
      "Requirement already satisfied: numpy in /opt/anaconda3/lib/python3.8/site-packages (from BlackBoxAuditing) (1.22.1)\n",
      "Requirement already satisfied: pandas in /opt/anaconda3/lib/python3.8/site-packages (from BlackBoxAuditing) (1.0.5)\n",
      "Requirement already satisfied: matplotlib in /opt/anaconda3/lib/python3.8/site-packages (from BlackBoxAuditing) (3.2.2)\n",
      "Requirement already satisfied: networkx in /opt/anaconda3/lib/python3.8/site-packages (from BlackBoxAuditing) (2.4)\n",
      "Requirement already satisfied: python-dateutil>=2.6.1 in /opt/anaconda3/lib/python3.8/site-packages (from pandas->BlackBoxAuditing) (2.8.1)\n",
      "Requirement already satisfied: pytz>=2017.2 in /opt/anaconda3/lib/python3.8/site-packages (from pandas->BlackBoxAuditing) (2020.1)\n",
      "Requirement already satisfied: pyparsing!=2.0.4,!=2.1.2,!=2.1.6,>=2.0.1 in /opt/anaconda3/lib/python3.8/site-packages (from matplotlib->BlackBoxAuditing) (2.4.7)\n",
      "Requirement already satisfied: kiwisolver>=1.0.1 in /opt/anaconda3/lib/python3.8/site-packages (from matplotlib->BlackBoxAuditing) (1.2.0)\n",
      "Requirement already satisfied: cycler>=0.10 in /opt/anaconda3/lib/python3.8/site-packages (from matplotlib->BlackBoxAuditing) (0.10.0)\n",
      "Requirement already satisfied: decorator>=4.3.0 in /opt/anaconda3/lib/python3.8/site-packages (from networkx->BlackBoxAuditing) (4.4.2)\n",
      "Requirement already satisfied: six>=1.5 in /opt/anaconda3/lib/python3.8/site-packages (from python-dateutil>=2.6.1->pandas->BlackBoxAuditing) (1.16.0)\n"
     ]
    }
   ],
   "source": [
    "## Write your code\n",
    "from sklearn.linear_model import LogisticRegression\n",
    "from sklearn.preprocessing import StandardScaler\n",
    "from sklearn import metrics\n",
    "from aif360.algorithms.preprocessing import DisparateImpactRemover\n",
    "!pip install BlackBoxAuditing"
   ]
  },
  {
   "cell_type": "code",
   "execution_count": 521,
   "metadata": {},
   "outputs": [],
   "source": [
    "## A) Original dataset"
   ]
  },
  {
   "cell_type": "code",
   "execution_count": 522,
   "metadata": {},
   "outputs": [],
   "source": [
    "model1= LogisticRegression(solver='liblinear', random_state=1)\n",
    "model2= LogisticRegression(solver='liblinear', random_state=1)\n",
    "scaler = StandardScaler()"
   ]
  },
  {
   "cell_type": "code",
   "execution_count": 524,
   "metadata": {},
   "outputs": [],
   "source": [
    "x_titanic_original_train=titanic_original_train.drop(['Survived'], axis = 1)"
   ]
  },
  {
   "cell_type": "code",
   "execution_count": 526,
   "metadata": {},
   "outputs": [],
   "source": [
    "x_titanic_original_train=scaler.fit_transform(x_titanic_original_train)"
   ]
  },
  {
   "cell_type": "code",
   "execution_count": 527,
   "metadata": {},
   "outputs": [],
   "source": [
    "y_titanic_original_train=titanic_original_train['Survived']"
   ]
  },
  {
   "cell_type": "code",
   "execution_count": 528,
   "metadata": {},
   "outputs": [],
   "source": [
    "x_titanic_original_test=titanic_original_test.drop(['Survived'], axis = 1)"
   ]
  },
  {
   "cell_type": "code",
   "execution_count": 529,
   "metadata": {},
   "outputs": [],
   "source": [
    "x_titanic_original_test=scaler.fit_transform(x_titanic_original_test)"
   ]
  },
  {
   "cell_type": "code",
   "execution_count": 530,
   "metadata": {},
   "outputs": [],
   "source": [
    "y_titanic_original_test=titanic_original_test['Survived']"
   ]
  },
  {
   "cell_type": "code",
   "execution_count": null,
   "metadata": {},
   "outputs": [],
   "source": []
  },
  {
   "cell_type": "code",
   "execution_count": null,
   "metadata": {},
   "outputs": [],
   "source": []
  },
  {
   "cell_type": "code",
   "execution_count": 533,
   "metadata": {},
   "outputs": [
    {
     "data": {
      "text/plain": [
       "LogisticRegression(random_state=1, solver='liblinear')"
      ]
     },
     "execution_count": 533,
     "metadata": {},
     "output_type": "execute_result"
    }
   ],
   "source": [
    "model1.fit(x_titanic_original_train,y_titanic_original_train)"
   ]
  },
  {
   "cell_type": "code",
   "execution_count": 534,
   "metadata": {},
   "outputs": [
    {
     "name": "stdout",
     "output_type": "stream",
     "text": [
      "Accuracy 0.8059701492537313\n"
     ]
    }
   ],
   "source": [
    "print(\"Accuracy\",model1.score(x_titanic_original_test,y_titanic_original_test))"
   ]
  },
  {
   "cell_type": "code",
   "execution_count": null,
   "metadata": {},
   "outputs": [],
   "source": []
  },
  {
   "cell_type": "code",
   "execution_count": 447,
   "metadata": {},
   "outputs": [],
   "source": [
    "## B) Transformed Dataset"
   ]
  },
  {
   "cell_type": "code",
   "execution_count": null,
   "metadata": {},
   "outputs": [],
   "source": []
  },
  {
   "cell_type": "code",
   "execution_count": 535,
   "metadata": {},
   "outputs": [],
   "source": [
    "x_titanic_transformed_train=titanic_transformed_train.drop(['Survived'], axis = 1)"
   ]
  },
  {
   "cell_type": "code",
   "execution_count": 536,
   "metadata": {},
   "outputs": [],
   "source": [
    "x_titanic_transformed_train=scaler.fit_transform(x_titanic_transformed_train)"
   ]
  },
  {
   "cell_type": "code",
   "execution_count": 537,
   "metadata": {},
   "outputs": [],
   "source": [
    "y_titanic_transformed_train=titanic_transformed_train['Survived']"
   ]
  },
  {
   "cell_type": "code",
   "execution_count": 538,
   "metadata": {},
   "outputs": [],
   "source": [
    "x_titanic_transformed_test=titanic_transformed_test.drop(['Survived'], axis = 1)"
   ]
  },
  {
   "cell_type": "code",
   "execution_count": 539,
   "metadata": {},
   "outputs": [],
   "source": [
    "x_titanic_transformed_test=scaler.fit_transform(x_titanic_transformed_test)"
   ]
  },
  {
   "cell_type": "code",
   "execution_count": 540,
   "metadata": {},
   "outputs": [],
   "source": [
    "y_titanic_transformed_test=titanic_transformed_test['Survived']"
   ]
  },
  {
   "cell_type": "code",
   "execution_count": 541,
   "metadata": {},
   "outputs": [
    {
     "data": {
      "text/plain": [
       "LogisticRegression(random_state=1, solver='liblinear')"
      ]
     },
     "execution_count": 541,
     "metadata": {},
     "output_type": "execute_result"
    }
   ],
   "source": [
    "model2.fit(x_titanic_transformed_train,y_titanic_transformed_train)"
   ]
  },
  {
   "cell_type": "code",
   "execution_count": 542,
   "metadata": {},
   "outputs": [
    {
     "name": "stdout",
     "output_type": "stream",
     "text": [
      "Accuracy 0.8021390374331551\n"
     ]
    }
   ],
   "source": [
    "print(\"Accuracy\",model2.score(x_titanic_transformed_test,y_titanic_transformed_test))"
   ]
  },
  {
   "cell_type": "markdown",
   "metadata": {},
   "source": [
    "## Submission"
   ]
  },
  {
   "cell_type": "markdown",
   "metadata": {},
   "source": [
    "Complete the code in A11-1.ipynb, and submit it to the CourSys activity Assignment 11."
   ]
  }
 ],
 "metadata": {
  "kernelspec": {
   "display_name": "Python 3",
   "language": "python",
   "name": "python3"
  },
  "language_info": {
   "codemirror_mode": {
    "name": "ipython",
    "version": 3
   },
   "file_extension": ".py",
   "mimetype": "text/x-python",
   "name": "python",
   "nbconvert_exporter": "python",
   "pygments_lexer": "ipython3",
   "version": "3.8.3"
  }
 },
 "nbformat": 4,
 "nbformat_minor": 2
}
