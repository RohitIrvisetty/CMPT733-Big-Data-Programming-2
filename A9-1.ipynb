{
  "cells": [
    {
      "cell_type": "markdown",
      "metadata": {
        "id": "qlbrV2ptRwdH"
      },
      "source": [
        "# Assignment 9: Hypothesis Testing (Part 1)"
      ]
    },
    {
      "cell_type": "markdown",
      "metadata": {
        "id": "hpTATkx4RwdR"
      },
      "source": [
        "## Objective"
      ]
    },
    {
      "cell_type": "markdown",
      "metadata": {
        "id": "LNKqcZkqRwdS"
      },
      "source": [
        "In many situations, we cannot get the full population but only a sample. If we derive an interesting result from a sample, how likely can we derive the same result from the entire population? In other words, we want to know whether this result is a true finding or it just happens in the sample by chance. Hypothesis testing aims to answer this fundamental question. \n",
        "\n",
        "\n",
        "**Hypothesis Testing**\n",
        "1. Why A/B testing?  \n",
        "2. What is a permutation test? How to implement it?\n",
        "3. What is p-value? How to avoid p-hacking? \n",
        "4. What is a chi-squared test? How to implement it?\n"
      ]
    },
    {
      "cell_type": "markdown",
      "metadata": {
        "id": "BOct0DTDRwdU"
      },
      "source": [
        "## Task 1. A/B Testing\n",
        "> Acknowledgment: Thank [Greg Baker](http://www.cs.sfu.ca/~ggbaker/) for helping me to prepare this task.\n",
        "\n",
        "A very common technique to evaluate changes in a user interface is A/B testing: show some users interface A, some interface B, and then look to see if one performs better than the other.\n",
        "\n",
        "Suppose I started an A/B test on CourSys. Here are the two interfaces that I want to compare with. I want to know whether a good placeholder in the search box can attract more users to use the `search` feature.\n",
        "\n",
        "\n",
        "![](img/ab-testing.png)"
      ]
    },
    {
      "cell_type": "markdown",
      "metadata": {
        "id": "yLw423lzRwdW"
      },
      "source": [
        "The provided [searchlog.json](searchlog.json) has information about users' usage. The question I was interested in: is the number of searches per user different?"
      ]
    },
    {
      "cell_type": "markdown",
      "metadata": {
        "id": "uc4CMzKTRwdY"
      },
      "source": [
        "To answer this question, we need to first pick up a **test statistic** to quantify how good an interface is. Here, we choose \"the search_count mean\". \n",
        "\n",
        "Please write the code to compute **the difference of the search_count means between interface A and Interface B.** "
      ]
    },
    {
      "cell_type": "code",
      "execution_count": 50,
      "metadata": {
        "colab": {
          "base_uri": "https://localhost:8080/"
        },
        "id": "3rgjb1gBRwdZ",
        "outputId": "9a72de5a-30f3-4cbe-d1f6-a0abfb07425d"
      },
      "outputs": [
        {
          "output_type": "stream",
          "name": "stdout",
          "text": [
            "The difference of the search_count means between interface A and Interface B is 0.13500569535052287\n"
          ]
        }
      ],
      "source": [
        "#<-- Write Your Code -->\n",
        "import pandas as pd\n",
        "from numpy import random\n",
        "import numpy as np\n",
        "read_json=pd.read_json(\"searchlog.json\",lines=True)\n",
        "#print(read_json)\n",
        "read_cols=read_json[[\"search_ui\",\"search_count\"]]\n",
        "read_group=read_cols.groupby(\"search_ui\").mean()\n",
        "print(\"The difference of the search_count means between interface A and Interface B is\",read_group[\"search_count\"][\"B\"]-read_group[\"search_count\"][\"A\"])"
      ]
    },
    {
      "cell_type": "markdown",
      "metadata": {
        "id": "SXpcFlxKRwdc"
      },
      "source": [
        "Suppose we find that the mean value increased by 0.135. Then, we wonder whether this result is just caused by random variation. \n",
        "\n",
        "We define the Null Hypothesis as\n",
        " * The difference in search_count mean between Interface A and Interface B is caused by random variation. \n",
        " \n",
        "Then the next job is to check whether we can reject the null hypothesis or not. If it does, we can adopt the alternative explanation:\n",
        " * The difference in search_count mean  between Interface A and Interface B is caused by the design differences between the two.\n",
        "\n",
        "We compute the p-value of the observed result. If p-value is low (e.g., <0.01), we can reject the null hypothesis, and adopt  the alternative explanation.  \n",
        "\n",
        "Please implement a permutation test (numSamples = 10000) to compute the p-value. Note that you are NOT allowed to use an implementation in an existing library. You have to implement it by yourself."
      ]
    },
    {
      "cell_type": "code",
      "execution_count": 51,
      "metadata": {
        "colab": {
          "base_uri": "https://localhost:8080/"
        },
        "id": "hKtlep6vRwdf",
        "outputId": "d556c397-6aa5-43ae-f78e-cd41da39b66d"
      },
      "outputs": [
        {
          "output_type": "stream",
          "name": "stdout",
          "text": [
            "0.1321\n"
          ]
        }
      ],
      "source": [
        "#<-- Write Your Code -->\n",
        "numSamples=10000\n",
        "mean_list=[]\n",
        "for i in range(numSamples):\n",
        "  read_cols=read_json[[\"search_ui\",\"search_count\"]]\n",
        "  random.shuffle(read_cols[\"search_ui\"].values)\n",
        "  random.shuffle(read_cols[\"search_count\"].values)\n",
        "  read_group=read_cols.groupby(\"search_ui\").mean()\n",
        "  mean_list.append(read_group[\"search_count\"][\"B\"]-read_group[\"search_count\"][\"A\"])\n",
        "  \n",
        "mean_list=[i for i in mean_list if i>0.135]\n",
        "print(len(mean_list)/numSamples)"
      ]
    },
    {
      "cell_type": "code",
      "source": [
        "## P-value is larger than 0.01. Therefore we accept the null hypothesis."
      ],
      "metadata": {
        "id": "ENxn43ocgMO9"
      },
      "execution_count": 52,
      "outputs": []
    },
    {
      "cell_type": "markdown",
      "metadata": {
        "id": "m756t8GmRwdh"
      },
      "source": [
        "Suppose we want to use the same dataset to do another A/B testing. We suspect that instructors are the ones who can get more useful information from the search feature, so perhaps non-instructors didn't touch the search feature because it was genuinely not relevant to them.\n",
        "\n",
        "So we decide to repeat the above analysis looking only at instructors."
      ]
    },
    {
      "cell_type": "markdown",
      "metadata": {
        "id": "4RBRs7w4Rwdi"
      },
      "source": [
        "**Q. If using the same dataset to do this analysis, do you feel like we're p-hacking? If so, what can we do with it?**"
      ]
    },
    {
      "cell_type": "markdown",
      "metadata": {
        "id": "plzmqjQ_Rwdj"
      },
      "source": [
        "**A.** Yes.\n",
        "\n",
        "To resolve this try with a different p-value. For example decrease p-value to 0.005.\n"
      ]
    },
    {
      "cell_type": "markdown",
      "metadata": {
        "id": "1TSLvJVGRwdj"
      },
      "source": [
        "## Task 2. Chi-squared Test "
      ]
    },
    {
      "cell_type": "markdown",
      "metadata": {
        "id": "DbvlhFRQRwdk"
      },
      "source": [
        "There are tens of different hypothesis testing methods. It's impossible to cover all of them in one week. Given that this is an important topic in statistics, I highly recommend using your free time to learn some other popular ones such as <a href=\"https://en.wikipedia.org/wiki/Chi-squared_test\">Chi-squared test</a>, <a href=\"https://en.wikipedia.org/wiki/G-test\">G-test</a>, <a href=\"https://en.wikipedia.org/wiki/Student%27s_t-test\">T-test</a>, and <a href=\"https://en.wikipedia.org/wiki/Mann%E2%80%93Whitney_U_test\">Mann–Whitney U test</a>.\n",
        "\n",
        "On the searchlog dataset, there are two categorical columns: `is_instructor` and `search_ui`. In Task D, your job is to first learn how a Chi-Squired test works by yourself and then use it to test whether `is_instructor` and `search_ui` are correlated. "
      ]
    },
    {
      "cell_type": "markdown",
      "metadata": {
        "id": "ol7UTTX-Rwdm"
      },
      "source": [
        "Please write code to compute the Chi-squared stat. Note that you are **not** allowed to call an existing function (e.g., stats.chi2, chi2_contingency). "
      ]
    },
    {
      "cell_type": "code",
      "execution_count": 53,
      "metadata": {
        "id": "Ya4aI49mRwdm",
        "colab": {
          "base_uri": "https://localhost:8080/"
        },
        "outputId": "f9112db5-be7d-4a03-e246-9c17e979a4a9"
      },
      "outputs": [
        {
          "output_type": "stream",
          "name": "stdout",
          "text": [
            "chi-square - value 0.6731740891275046\n"
          ]
        }
      ],
      "source": [
        "#<-- Write Your Code -->\n",
        "x1=read_json[read_json['is_instructor']==True]\n",
        "x2=read_json[read_json['is_instructor']==False]\n",
        "y1=read_json[read_json['search_ui']=='A']\n",
        "y2=read_json[read_json['search_ui']=='B']\n",
        "output11=len(np.intersect1d(x1.uid, y1.uid))\n",
        "output12=len(np.intersect1d(x1.uid, y2.uid))\n",
        "output21=len(np.intersect1d(x2.uid, y1.uid))\n",
        "output22=len(np.intersect1d(x2.uid, y2.uid))\n",
        "#print(output11,output12,output21,output22)\n",
        "x_1=((output11-(((output11+output12)*(output11+output21))/(output11+output12+output21+output22)))**2)/(((output11+output12)*(output11+output21))/(output11+output12+output21+output22))\n",
        "x_2=((output12-(((output11+output12)*(output12+output22))/(output11+output12+output21+output22)))**2)/(((output11+output12)*(output12+output22))/(output11+output12+output21+output22))\n",
        "x_3=((output21-(((output21+output22)*(output11+output21))/(output11+output12+output21+output22)))**2)/(((output21+output22)*(output11+output21))/(output11+output12+output21+output22))\n",
        "x_4=((output22-(((output21+output22)*(output12+output22))/(output11+output12+output21+output22)))**2)/(((output21+output22)*(output12+output22))/(output11+output12+output21+output22))\n",
        "print(\"chi-square - value\",x_1+x_2+x_3+x_4)\n"
      ]
    },
    {
      "cell_type": "markdown",
      "metadata": {
        "id": "FsRJgup2Rwdn"
      },
      "source": [
        "Please explain how to use Chi-squared test to determine whether `is_instructor` and `search_ui` are correlated. "
      ]
    },
    {
      "cell_type": "markdown",
      "metadata": {
        "id": "x_-k29EaRwdo"
      },
      "source": [
        "**A.** Find degrees of freedom and set the level of significance to 0.05. Find the corresponding critical value from the chi-square table.\n",
        "If the calculated chi-sqaure value is less than critical value, we can conclude that is_instructor and search_ui are not correlated."
      ]
    },
    {
      "cell_type": "markdown",
      "metadata": {
        "id": "N9bHu7PlRwdp"
      },
      "source": [
        "## Submission"
      ]
    },
    {
      "cell_type": "markdown",
      "metadata": {
        "id": "-cJhdL0oRwdp"
      },
      "source": [
        "Complete the code in this notebook, and submit it to the CourSys activity Assignment 9."
      ]
    }
  ],
  "metadata": {
    "kernelspec": {
      "display_name": "Python 3 (ipykernel)",
      "language": "python",
      "name": "python3"
    },
    "language_info": {
      "codemirror_mode": {
        "name": "ipython",
        "version": 3
      },
      "file_extension": ".py",
      "mimetype": "text/x-python",
      "name": "python",
      "nbconvert_exporter": "python",
      "pygments_lexer": "ipython3",
      "version": "3.9.7"
    },
    "colab": {
      "name": "A9_1.ipynb",
      "provenance": []
    }
  },
  "nbformat": 4,
  "nbformat_minor": 0
}